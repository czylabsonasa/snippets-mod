{
 "cells": [
  {
   "cell_type": "markdown",
   "id": "juvenile-concert",
   "metadata": {},
   "source": [
    "<img src=\"osztók.png\" width=\"auto\">"
   ]
  },
  {
   "cell_type": "markdown",
   "id": "funny-intranet",
   "metadata": {},
   "source": [
    "## osztók\n",
    "\n",
    "* esetek\n",
    "* minden szám $d2^k$ alakú \n",
    "  * $d$ páratlan, $k\\ge0$\n",
    "* $d_1,...,d_m$ a páratlan osztók\n",
    "  * $k=0$, nincs páros osztó\n",
    "  * $k=1$ minden $d_k$-ból pontosan egy páros osztót tudok gyártani\n",
    "  * $k>1$ minden $d_k$-ból pontosan $k$ páros osztót tudok gyártani"
   ]
  },
  {
   "cell_type": "code",
   "execution_count": 3,
   "id": "designed-waste",
   "metadata": {
    "code_folding": [
     0
    ],
    "hide_input": true
   },
   "outputs": [
    {
     "name": "stdout",
     "output_type": "stream",
     "text": [
      "3\n",
      "7\n",
      "8\n",
      "10\n",
      "1\n",
      "2\n",
      "0\n"
     ]
    }
   ],
   "source": [
    "def solve():\n",
    "  N=int(input())\n",
    "  a=[int(input()) for i in range(N)]\n",
    "  ret=[]\n",
    "  for an in a:\n",
    "    k2=0\n",
    "    while True:\n",
    "      an,r=divmod(an,2)\n",
    "      if r>0: break\n",
    "      k2+=1\n",
    "    \n",
    "    ret.append(\"1\" if k2==0 else \"0\" if k2==1 else \"2\")\n",
    " \n",
    "  print(\"\\n\".join(ret))\n",
    "\n",
    "minta=\"\"\"\n",
    "3\n",
    "7\n",
    "8\n",
    "10\n",
    "\"\"\"  \n",
    "  \n",
    "solve()"
   ]
  },
  {
   "cell_type": "markdown",
   "id": "related-surface",
   "metadata": {},
   "source": [
    "<img src=\"négyzetek.png\" width=\"auto\">"
   ]
  },
  {
   "cell_type": "markdown",
   "id": "moral-distinction",
   "metadata": {},
   "source": [
    "## négyzetek\n",
    "\n",
    "* egyenes arányosság, B jobbra lépéssel A csökkenés ..."
   ]
  },
  {
   "cell_type": "code",
   "execution_count": 4,
   "id": "special-stamp",
   "metadata": {
    "code_folding": [
     0
    ],
    "hide_input": true
   },
   "outputs": [
    {
     "name": "stdout",
     "output_type": "stream",
     "text": [
      "1\n",
      "2 7 12\n",
      "6\n"
     ]
    }
   ],
   "source": [
    "def solve():\n",
    "  T=int(input())  \n",
    "  Ms=[]\n",
    "  for _ in range(T):\n",
    "    K,A,B=[int(v) for v in input().split()]\n",
    "    d=K*(A/B)    # decrease during a K length step\n",
    "    M=0          # accumulate the solution for the case\n",
    "    k=1          # kth try\n",
    "    while True:\n",
    "      m=int((A-k*d)/K)\n",
    "      if m<1: break\n",
    "      M+=m\n",
    "      k+=1\n",
    "    \n",
    "    Ms.append(M)\n",
    "\n",
    "    print(\"\\n\".join([str(v) for v in Ms]))\n",
    "\n",
    "solve()    "
   ]
  },
  {
   "cell_type": "markdown",
   "id": "local-brighton",
   "metadata": {
    "hide_input": true
   },
   "source": [
    "<img src=\"táblák.png\" width=\"auto\">"
   ]
  },
  {
   "cell_type": "markdown",
   "id": "behavioral-material",
   "metadata": {},
   "source": [
    "## táblák\n",
    "\n",
    "* az egyedüli \"rossz\" eset amikor a páratlanok száma páratlan és nagyobb mint 1."
   ]
  },
  {
   "cell_type": "code",
   "execution_count": 9,
   "id": "surface-subsection",
   "metadata": {
    "code_folding": [
     0
    ],
    "hide_input": true
   },
   "outputs": [
    {
     "name": "stdout",
     "output_type": "stream",
     "text": [
      "4\n",
      "3 1 2 3\n",
      "4 2 2 2 2 \n",
      "1 1\n",
      "4 2 2 2 1\n",
      "1110\n"
     ]
    }
   ],
   "source": [
    "def solveall():\n",
    "  def solve():\n",
    "    nT,*T=[int(v) for v in input().split()]\n",
    "    #print(T)\n",
    "    odd=sum(v%2 for v in T)\n",
    "    return \"1\" if nT==1 or odd%2==0 else \"0\"\n",
    "\n",
    "  N=int(input())\n",
    "  print(\"\".join(solve() for i in range(N)))\n",
    "\n",
    "minta=\"\"\"\n",
    "4\n",
    "3 1 2 3\n",
    "4 2 2 2 2\n",
    "1 1\n",
    "4 2 2 2 1\n",
    "\"\"\"\n",
    "\n",
    "solveall()"
   ]
  },
  {
   "cell_type": "markdown",
   "id": "cross-consumer",
   "metadata": {},
   "source": [
    "<img src=\"csoki.png\" width=\"auto\">"
   ]
  },
  {
   "cell_type": "markdown",
   "id": "complicated-membrane",
   "metadata": {},
   "source": [
    "## csoki\n",
    "\n",
    "\n",
    "* brute force, ha minden szám prím akkor $O(X^2),\\ X=10^6$ is lehet.\n",
    "* vagy: alulról felfelé, Eratosztenész szitája variáció\n",
    "* pl: `100 50 30 25 10 6 5`\n",
    "  * 5->10,25,30,100\n",
    "  * 6->3"
   ]
  },
  {
   "cell_type": "code",
   "execution_count": 13,
   "id": "incident-toner",
   "metadata": {
    "hide_input": true
   },
   "outputs": [
    {
     "name": "stdout",
     "output_type": "stream",
     "text": [
      "7\n",
      "100 50 30 25 10 6 5\n",
      "5\n"
     ]
    }
   ],
   "source": [
    "def solve():\n",
    "  N=int(input())\n",
    "  C=[int(v) for v in input().split()]\n",
    "  maxi=max(C)\n",
    "  dp=[0]*(maxi+1)\n",
    "  for c in C:\n",
    "    dp[c]=1\n",
    "  for k in range(2,1+maxi//2):\n",
    "    if dp[k]==0: continue\n",
    "    for i in range(2*k,maxi+1,k):\n",
    "      dp[i]=0\n",
    "  \n",
    "\n",
    "  print(N-sum(dp))\n",
    "\n",
    "minta=\"\"\"\n",
    "7\n",
    "100 50 30 25 10 6 5\n",
    "\"\"\"  \n",
    "  \n",
    "solve()"
   ]
  },
  {
   "cell_type": "code",
   "execution_count": null,
   "id": "unlimited-mortality",
   "metadata": {
    "hide_input": false
   },
   "outputs": [],
   "source": [
    "<img src=\"sí.png\" width=\"auto\">"
   ]
  },
  {
   "cell_type": "markdown",
   "id": "exact-operation",
   "metadata": {},
   "source": [
    "## sí\n",
    "* irányított gráf, ami körmentes a feltételek miatt\n",
    "* szélességi keresés több kezdőpontból\n",
    "  * kezdőpont: magasabb minden szomszédjánál\n",
    "* $O(R*C)$"
   ]
  },
  {
   "cell_type": "code",
   "execution_count": 14,
   "id": "adjacent-daniel",
   "metadata": {
    "hide_input": true
   },
   "outputs": [
    {
     "name": "stdout",
     "output_type": "stream",
     "text": [
      "4 6\n",
      "3 5 7 4 4 2\n",
      "4 3 9 11 8 7\n",
      "1 2 4 8 5 6\n",
      "4 1 1 2 3 10\n",
      "8\n"
     ]
    }
   ],
   "source": [
    "from collections import deque\n",
    "\n",
    "def solve():\n",
    "  R,C=[int(v) for v in input().split()]\n",
    "  tbl=[]\n",
    "  for r in range(R):\n",
    "    tbl.append([int(v) for v in input().split()])\n",
    "\n",
    "\n",
    "  G={(r,c):[] for r in range(R) for c in range(C)}\n",
    "  indeg={(r,c):0 for r in range(R) for c in range(C)}\n",
    "\n",
    "  for r in range(R):\n",
    "    for c in range(C):\n",
    "      v=tbl[r][c]\n",
    "      for (i,j) in [(r-1,c),(r+1,c),(r,c-1),(r,c+1)]:\n",
    "        if 0<=i<R and 0<=j<C and v>tbl[i][j]:\n",
    "          G[(r,c)].append((i,j))\n",
    "          indeg[(i,j)]+=1\n",
    "\n",
    "  level=dict()\n",
    "  Q=deque()\n",
    "  for r in range(R):\n",
    "    for c in range(C):\n",
    "      if indeg.get((r,c),0)==0:\n",
    "        Q.append((r,c))\n",
    "        level[(r,c)]=1\n",
    "\n",
    "  while len(Q)>0:\n",
    "    (r,c)=Q.popleft()\n",
    "    lev=level[(r,c)]+1\n",
    "    for (i,j) in G[(r,c)]:\n",
    "      level[(i,j)]=lev\n",
    "      indeg[(i,j)]-=1\n",
    "      if indeg[(i,j)]==0:\n",
    "        Q.append((i,j))\n",
    "\n",
    "  print(max(level[(r,c)] for r in range(R) for c in range(C)))\n",
    "\n",
    "solve()\n",
    "\n",
    "minta=\"\"\"\n",
    "4 6\n",
    "3 5 7 4 4 2\n",
    "4 3 9 11 8 7\n",
    "1 2 4 8 5 6\n",
    "4 1 1 2 3 10\n",
    "\"\"\""
   ]
  },
  {
   "cell_type": "markdown",
   "id": "first-london",
   "metadata": {},
   "source": [
    "<img src=\"arany.png\" width=\"auto\">"
   ]
  },
  {
   "cell_type": "markdown",
   "id": "further-colombia",
   "metadata": {},
   "source": [
    "## arany\n",
    "\n",
    "* brute force ami nem $O(2^N)$? nem tudom\n",
    "* pl. balról jobbra végigmenni a ládákon, mindig megkérdezni hogy \n",
    "  mi van ha ebből kiveszem az aranyat és mi van ha nem? \n",
    "* dp, $O(N)$\n",
    "* dc-vel is kezelhető, de szerintem az bonyolultabb lenne"
   ]
  },
  {
   "cell_type": "code",
   "execution_count": 15,
   "id": "lucky-trance",
   "metadata": {
    "hide_input": true
   },
   "outputs": [
    {
     "name": "stdout",
     "output_type": "stream",
     "text": [
      "7\n",
      "1 2 3 3 2 2 1\n",
      "7\n"
     ]
    }
   ],
   "source": [
    "def solve():\n",
    "  N=int(input())\n",
    "  g=[int(v) for v in input().split()]\n",
    "  igen=[0]*N\n",
    "  nem=[0]*N\n",
    "\n",
    "  igen[0]=g[0]\n",
    "  for k in range(1,N):\n",
    "    igen[k]=g[k]+nem[k-1]\n",
    "    nem[k]=max(igen[k-1],nem[k-1])\n",
    "\n",
    "  print(max(igen[-1],nem[-1]))\n",
    "\n",
    "minta=\"\"\"\n",
    "7\n",
    "1 2 3 3 2 2 1\n",
    "\"\"\"\n",
    "\n",
    "solve()"
   ]
  },
  {
   "cell_type": "code",
   "execution_count": null,
   "id": "fallen-rhythm",
   "metadata": {},
   "outputs": [],
   "source": []
  }
 ],
 "metadata": {
  "kernelspec": {
   "display_name": "Python 3 (ipykernel)",
   "language": "python",
   "name": "python3"
  },
  "language_info": {
   "codemirror_mode": {
    "name": "ipython",
    "version": 3
   },
   "file_extension": ".py",
   "mimetype": "text/x-python",
   "name": "python",
   "nbconvert_exporter": "python",
   "pygments_lexer": "ipython3",
   "version": "3.9.2"
  },
  "toc": {
   "base_numbering": 1,
   "nav_menu": {},
   "number_sections": false,
   "sideBar": true,
   "skip_h1_title": false,
   "title_cell": "Table of Contents",
   "title_sidebar": "Contents",
   "toc_cell": false,
   "toc_position": {},
   "toc_section_display": true,
   "toc_window_display": false
  },
  "varInspector": {
   "cols": {
    "lenName": 16,
    "lenType": 16,
    "lenVar": 40
   },
   "kernels_config": {
    "python": {
     "delete_cmd_postfix": "",
     "delete_cmd_prefix": "del ",
     "library": "var_list.py",
     "varRefreshCmd": "print(var_dic_list())"
    },
    "r": {
     "delete_cmd_postfix": ") ",
     "delete_cmd_prefix": "rm(",
     "library": "var_list.r",
     "varRefreshCmd": "cat(var_dic_list()) "
    }
   },
   "types_to_exclude": [
    "module",
    "function",
    "builtin_function_or_method",
    "instance",
    "_Feature"
   ],
   "window_display": false
  }
 },
 "nbformat": 4,
 "nbformat_minor": 5
}
